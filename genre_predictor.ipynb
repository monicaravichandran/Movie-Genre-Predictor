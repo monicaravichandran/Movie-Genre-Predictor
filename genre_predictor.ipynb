{
 "cells": [
  {
   "cell_type": "code",
   "execution_count": 1,
   "metadata": {},
   "outputs": [],
   "source": [
    "import pandas as pd\n",
    "import numpy as np\n",
    "import urllib\n",
    "from PIL import Image\n",
    "from bs4 import BeautifulSoup\n",
    "import requests"
   ]
  },
  {
   "cell_type": "markdown",
   "metadata": {},
   "source": [
    "# WebScraping for the top 100 Horror Movies"
   ]
  },
  {
   "cell_type": "code",
   "execution_count": 131,
   "metadata": {},
   "outputs": [],
   "source": [
    "horror_link = \"https://www.imdb.com/list/ls066355376/\"\n",
    "resp = requests.get(horror_link)\n",
    "soup = BeautifulSoup(resp.content, \"html.parser\")"
   ]
  },
  {
   "cell_type": "code",
   "execution_count": 132,
   "metadata": {},
   "outputs": [],
   "source": [
    "images_soup = soup.find_all(\"img\",{\"class\":\"loadlate\"})\n",
    "texts = soup.find_all(\"p\",{\"class\":\"\"})[3:-1]\n",
    "images = []\n",
    "synopsis = []\n",
    "movie_names = []\n",
    "for image in images_soup:\n",
    "    if(len(image.get(\"class\"))<2):\n",
    "        movie_names.append(image.get(\"alt\"))\n",
    "        images.append(image.get(\"loadlate\"))\n",
    "for text in texts:\n",
    "    if(text.text[0].isdigit() == False):\n",
    "        txt = text.text.replace(\"\\n\",\"\")\n",
    "        synopsis.append(txt)\n",
    "horror_df = pd.DataFrame()\n",
    "horror_df[\"Movie Name\"] = movie_names\n",
    "horror_df[\"Poster Image Link\"] = images\n",
    "horror_df[\"Synopsis\"] = synopsis"
   ]
  },
  {
   "cell_type": "code",
   "execution_count": 135,
   "metadata": {},
   "outputs": [
    {
     "data": {
      "text/html": [
       "<div>\n",
       "<style scoped>\n",
       "    .dataframe tbody tr th:only-of-type {\n",
       "        vertical-align: middle;\n",
       "    }\n",
       "\n",
       "    .dataframe tbody tr th {\n",
       "        vertical-align: top;\n",
       "    }\n",
       "\n",
       "    .dataframe thead th {\n",
       "        text-align: right;\n",
       "    }\n",
       "</style>\n",
       "<table border=\"1\" class=\"dataframe\">\n",
       "  <thead>\n",
       "    <tr style=\"text-align: right;\">\n",
       "      <th></th>\n",
       "      <th>Movie Name</th>\n",
       "      <th>Poster Image Link</th>\n",
       "      <th>Synopsis</th>\n",
       "    </tr>\n",
       "  </thead>\n",
       "  <tbody>\n",
       "    <tr>\n",
       "      <th>0</th>\n",
       "      <td>Final Destination</td>\n",
       "      <td>https://m.media-amazon.com/images/M/MV5BZTI0NG...</td>\n",
       "      <td>After a teenager has a terrifying vision o...</td>\n",
       "    </tr>\n",
       "    <tr>\n",
       "      <th>1</th>\n",
       "      <td>The Evil Dead</td>\n",
       "      <td>https://m.media-amazon.com/images/M/MV5BODc2Mm...</td>\n",
       "      <td>Five friends travel to a cabin in the wood...</td>\n",
       "    </tr>\n",
       "    <tr>\n",
       "      <th>2</th>\n",
       "      <td>Resident Evil</td>\n",
       "      <td>https://m.media-amazon.com/images/M/MV5BN2Y2MT...</td>\n",
       "      <td>A special military unit fights a powerful,...</td>\n",
       "    </tr>\n",
       "    <tr>\n",
       "      <th>3</th>\n",
       "      <td>I Know What You Did Last Summer</td>\n",
       "      <td>https://m.media-amazon.com/images/M/MV5BZDI4OD...</td>\n",
       "      <td>Four young friends bound by a tragic accid...</td>\n",
       "    </tr>\n",
       "    <tr>\n",
       "      <th>4</th>\n",
       "      <td>Army of Darkness</td>\n",
       "      <td>https://m.media-amazon.com/images/M/MV5BODcyYz...</td>\n",
       "      <td>A man is accidentally transported to 1300 ...</td>\n",
       "    </tr>\n",
       "  </tbody>\n",
       "</table>\n",
       "</div>"
      ],
      "text/plain": [
       "                        Movie Name  \\\n",
       "0                Final Destination   \n",
       "1                    The Evil Dead   \n",
       "2                    Resident Evil   \n",
       "3  I Know What You Did Last Summer   \n",
       "4                 Army of Darkness   \n",
       "\n",
       "                                   Poster Image Link  \\\n",
       "0  https://m.media-amazon.com/images/M/MV5BZTI0NG...   \n",
       "1  https://m.media-amazon.com/images/M/MV5BODc2Mm...   \n",
       "2  https://m.media-amazon.com/images/M/MV5BN2Y2MT...   \n",
       "3  https://m.media-amazon.com/images/M/MV5BZDI4OD...   \n",
       "4  https://m.media-amazon.com/images/M/MV5BODcyYz...   \n",
       "\n",
       "                                            Synopsis  \n",
       "0      After a teenager has a terrifying vision o...  \n",
       "1      Five friends travel to a cabin in the wood...  \n",
       "2      A special military unit fights a powerful,...  \n",
       "3      Four young friends bound by a tragic accid...  \n",
       "4      A man is accidentally transported to 1300 ...  "
      ]
     },
     "execution_count": 135,
     "metadata": {},
     "output_type": "execute_result"
    }
   ],
   "source": [
    "horror_df.head()"
   ]
  },
  {
   "cell_type": "markdown",
   "metadata": {},
   "source": [
    "# WebScraping for the top 100 Romance Movies"
   ]
  },
  {
   "cell_type": "code",
   "execution_count": 136,
   "metadata": {},
   "outputs": [],
   "source": [
    "romance_link = \"https://www.imdb.com/list/ls009668031/\"\n",
    "resp = requests.get(romance_link)\n",
    "soup = BeautifulSoup(resp.content, \"html.parser\")"
   ]
  },
  {
   "cell_type": "code",
   "execution_count": 137,
   "metadata": {},
   "outputs": [],
   "source": [
    "images_soup = soup.find_all(\"img\",{\"class\":\"loadlate\"})\n",
    "texts = soup.find_all(\"p\",{\"class\":\"\"})[2:-1]\n",
    "images = []\n",
    "synopsis = []\n",
    "movie_names = []\n",
    "for image in images_soup:\n",
    "    if(len(image.get(\"class\"))<2):\n",
    "        movie_names.append(image.get(\"alt\"))\n",
    "        images.append(image.get(\"loadlate\"))\n",
    "for text in texts:\n",
    "    if(text.text[0].isdigit() == False):\n",
    "        txt = text.text.replace(\"\\n\",\"\")\n",
    "        synopsis.append(txt)\n",
    "romance_df = pd.DataFrame()\n",
    "romance_df[\"Movie Name\"] = movie_names\n",
    "romance_df[\"Poster Image Link\"] = images\n",
    "romance_df[\"Synopsis\"] = synopsis"
   ]
  },
  {
   "cell_type": "code",
   "execution_count": 138,
   "metadata": {},
   "outputs": [
    {
     "data": {
      "text/html": [
       "<div>\n",
       "<style scoped>\n",
       "    .dataframe tbody tr th:only-of-type {\n",
       "        vertical-align: middle;\n",
       "    }\n",
       "\n",
       "    .dataframe tbody tr th {\n",
       "        vertical-align: top;\n",
       "    }\n",
       "\n",
       "    .dataframe thead th {\n",
       "        text-align: right;\n",
       "    }\n",
       "</style>\n",
       "<table border=\"1\" class=\"dataframe\">\n",
       "  <thead>\n",
       "    <tr style=\"text-align: right;\">\n",
       "      <th></th>\n",
       "      <th>Movie Name</th>\n",
       "      <th>Poster Image Link</th>\n",
       "      <th>Synopsis</th>\n",
       "    </tr>\n",
       "  </thead>\n",
       "  <tbody>\n",
       "    <tr>\n",
       "      <th>0</th>\n",
       "      <td>Titanic</td>\n",
       "      <td>https://m.media-amazon.com/images/M/MV5BMDdmZG...</td>\n",
       "      <td>A seventeen-year-old aristocrat falls in l...</td>\n",
       "    </tr>\n",
       "    <tr>\n",
       "      <th>1</th>\n",
       "      <td>Amélie</td>\n",
       "      <td>https://m.media-amazon.com/images/M/MV5BNDg4Nj...</td>\n",
       "      <td>Amélie is an innocent and naive girl in Pa...</td>\n",
       "    </tr>\n",
       "    <tr>\n",
       "      <th>2</th>\n",
       "      <td>The Big Blue</td>\n",
       "      <td>https://m.media-amazon.com/images/M/MV5BOTg5NG...</td>\n",
       "      <td>The rivalry between Enzo and Jacques, two ...</td>\n",
       "    </tr>\n",
       "    <tr>\n",
       "      <th>3</th>\n",
       "      <td>Malèna</td>\n",
       "      <td>https://m.media-amazon.com/images/M/MV5BZGViM2...</td>\n",
       "      <td>Amidst the war climate, a teenage boy disc...</td>\n",
       "    </tr>\n",
       "    <tr>\n",
       "      <th>4</th>\n",
       "      <td>La leggenda del pianista sull'oceano</td>\n",
       "      <td>https://m.media-amazon.com/images/M/MV5BMzIwOT...</td>\n",
       "      <td>A baby boy, discovered in 1900 on an ocean...</td>\n",
       "    </tr>\n",
       "  </tbody>\n",
       "</table>\n",
       "</div>"
      ],
      "text/plain": [
       "                             Movie Name  \\\n",
       "0                               Titanic   \n",
       "1                                Amélie   \n",
       "2                          The Big Blue   \n",
       "3                                Malèna   \n",
       "4  La leggenda del pianista sull'oceano   \n",
       "\n",
       "                                   Poster Image Link  \\\n",
       "0  https://m.media-amazon.com/images/M/MV5BMDdmZG...   \n",
       "1  https://m.media-amazon.com/images/M/MV5BNDg4Nj...   \n",
       "2  https://m.media-amazon.com/images/M/MV5BOTg5NG...   \n",
       "3  https://m.media-amazon.com/images/M/MV5BZGViM2...   \n",
       "4  https://m.media-amazon.com/images/M/MV5BMzIwOT...   \n",
       "\n",
       "                                            Synopsis  \n",
       "0      A seventeen-year-old aristocrat falls in l...  \n",
       "1      Amélie is an innocent and naive girl in Pa...  \n",
       "2      The rivalry between Enzo and Jacques, two ...  \n",
       "3      Amidst the war climate, a teenage boy disc...  \n",
       "4      A baby boy, discovered in 1900 on an ocean...  "
      ]
     },
     "execution_count": 138,
     "metadata": {},
     "output_type": "execute_result"
    }
   ],
   "source": [
    "romance_df.head()"
   ]
  },
  {
   "cell_type": "markdown",
   "metadata": {},
   "source": [
    "# WebScraping for the top 100 Comedy Movies"
   ]
  },
  {
   "cell_type": "code",
   "execution_count": 139,
   "metadata": {},
   "outputs": [],
   "source": [
    "comedy_link = \"https://www.imdb.com/list/ls009668747/\"\n",
    "resp = requests.get(comedy_link)\n",
    "soup = BeautifulSoup(resp.content, \"html.parser\")"
   ]
  },
  {
   "cell_type": "code",
   "execution_count": 140,
   "metadata": {},
   "outputs": [],
   "source": [
    "images_soup = soup.find_all(\"img\",{\"class\":\"loadlate\"})\n",
    "texts = soup.find_all(\"p\",{\"class\":\"\"})[2:-1]\n",
    "images = []\n",
    "synopsis = []\n",
    "movie_names = []\n",
    "for image in images_soup:\n",
    "    if(len(image.get(\"class\"))<2):\n",
    "        movie_names.append(image.get(\"alt\"))\n",
    "        images.append(image.get(\"loadlate\"))\n",
    "for text in texts:\n",
    "    if(text.text[0].isdigit() == False):\n",
    "        txt = text.text.replace(\"\\n\",\"\")\n",
    "        synopsis.append(txt)\n",
    "comedy_df = pd.DataFrame()\n",
    "comedy_df[\"Movie Name\"] = movie_names\n",
    "comedy_df[\"Poster Image Link\"] = images\n",
    "comedy_df[\"Synopsis\"] = synopsis"
   ]
  },
  {
   "cell_type": "code",
   "execution_count": 141,
   "metadata": {},
   "outputs": [
    {
     "data": {
      "text/html": [
       "<div>\n",
       "<style scoped>\n",
       "    .dataframe tbody tr th:only-of-type {\n",
       "        vertical-align: middle;\n",
       "    }\n",
       "\n",
       "    .dataframe tbody tr th {\n",
       "        vertical-align: top;\n",
       "    }\n",
       "\n",
       "    .dataframe thead th {\n",
       "        text-align: right;\n",
       "    }\n",
       "</style>\n",
       "<table border=\"1\" class=\"dataframe\">\n",
       "  <thead>\n",
       "    <tr style=\"text-align: right;\">\n",
       "      <th></th>\n",
       "      <th>Movie Name</th>\n",
       "      <th>Poster Image Link</th>\n",
       "      <th>Synopsis</th>\n",
       "    </tr>\n",
       "  </thead>\n",
       "  <tbody>\n",
       "    <tr>\n",
       "      <th>0</th>\n",
       "      <td>Modern Times</td>\n",
       "      <td>https://m.media-amazon.com/images/M/MV5BYjJiZj...</td>\n",
       "      <td>The Tramp struggles to live in modern indu...</td>\n",
       "    </tr>\n",
       "    <tr>\n",
       "      <th>1</th>\n",
       "      <td>Amélie</td>\n",
       "      <td>https://m.media-amazon.com/images/M/MV5BNDg4Nj...</td>\n",
       "      <td>Amélie is an innocent and naive girl in Pa...</td>\n",
       "    </tr>\n",
       "    <tr>\n",
       "      <th>2</th>\n",
       "      <td>Back to the Future</td>\n",
       "      <td>https://m.media-amazon.com/images/M/MV5BZmU0M2...</td>\n",
       "      <td>Marty McFly, a 17-year-old high school stu...</td>\n",
       "    </tr>\n",
       "    <tr>\n",
       "      <th>3</th>\n",
       "      <td>Little Miss Sunshine</td>\n",
       "      <td>https://m.media-amazon.com/images/M/MV5BMTgzNT...</td>\n",
       "      <td>A family determined to get their young dau...</td>\n",
       "    </tr>\n",
       "    <tr>\n",
       "      <th>4</th>\n",
       "      <td>The Kid</td>\n",
       "      <td>https://m.media-amazon.com/images/M/MV5BZjhhMT...</td>\n",
       "      <td>The Tramp cares for an abandoned child, bu...</td>\n",
       "    </tr>\n",
       "  </tbody>\n",
       "</table>\n",
       "</div>"
      ],
      "text/plain": [
       "             Movie Name                                  Poster Image Link  \\\n",
       "0          Modern Times  https://m.media-amazon.com/images/M/MV5BYjJiZj...   \n",
       "1                Amélie  https://m.media-amazon.com/images/M/MV5BNDg4Nj...   \n",
       "2    Back to the Future  https://m.media-amazon.com/images/M/MV5BZmU0M2...   \n",
       "3  Little Miss Sunshine  https://m.media-amazon.com/images/M/MV5BMTgzNT...   \n",
       "4               The Kid  https://m.media-amazon.com/images/M/MV5BZjhhMT...   \n",
       "\n",
       "                                            Synopsis  \n",
       "0      The Tramp struggles to live in modern indu...  \n",
       "1      Amélie is an innocent and naive girl in Pa...  \n",
       "2      Marty McFly, a 17-year-old high school stu...  \n",
       "3      A family determined to get their young dau...  \n",
       "4      The Tramp cares for an abandoned child, bu...  "
      ]
     },
     "execution_count": 141,
     "metadata": {},
     "output_type": "execute_result"
    }
   ],
   "source": [
    "comedy_df.head()"
   ]
  },
  {
   "cell_type": "markdown",
   "metadata": {},
   "source": [
    "# WebScraping for the top 100 Thriller Movies"
   ]
  },
  {
   "cell_type": "code",
   "execution_count": 143,
   "metadata": {},
   "outputs": [],
   "source": [
    "thriller_link = \"https://www.imdb.com/list/ls051523000/\"\n",
    "resp = requests.get(thriller_link)\n",
    "soup = BeautifulSoup(resp.content, \"html.parser\")"
   ]
  },
  {
   "cell_type": "code",
   "execution_count": 149,
   "metadata": {},
   "outputs": [],
   "source": [
    "images_soup = soup.find_all(\"img\",{\"class\":\"loadlate\"})\n",
    "texts = soup.find_all(\"p\",{\"class\":\"\"})[3:-1]\n",
    "images = []\n",
    "synopsis = []\n",
    "movie_names = []\n",
    "for image in images_soup:\n",
    "    if(len(image.get(\"class\"))<2):\n",
    "        movie_names.append(image.get(\"alt\"))\n",
    "        images.append(image.get(\"loadlate\"))\n",
    "for text in texts:\n",
    "    if(text.text[0].isdigit() == False):\n",
    "        txt = text.text.replace(\"\\n\",\"\")\n",
    "        synopsis.append(txt)\n",
    "thriller_df = pd.DataFrame()\n",
    "thriller_df[\"Movie Name\"] = movie_names\n",
    "thriller_df[\"Poster Image Link\"] = images\n",
    "thriller_df[\"Synopsis\"] = synopsis"
   ]
  },
  {
   "cell_type": "code",
   "execution_count": 154,
   "metadata": {},
   "outputs": [
    {
     "data": {
      "text/html": [
       "<div>\n",
       "<style scoped>\n",
       "    .dataframe tbody tr th:only-of-type {\n",
       "        vertical-align: middle;\n",
       "    }\n",
       "\n",
       "    .dataframe tbody tr th {\n",
       "        vertical-align: top;\n",
       "    }\n",
       "\n",
       "    .dataframe thead th {\n",
       "        text-align: right;\n",
       "    }\n",
       "</style>\n",
       "<table border=\"1\" class=\"dataframe\">\n",
       "  <thead>\n",
       "    <tr style=\"text-align: right;\">\n",
       "      <th></th>\n",
       "      <th>Movie Name</th>\n",
       "      <th>Poster Image Link</th>\n",
       "      <th>Synopsis</th>\n",
       "    </tr>\n",
       "  </thead>\n",
       "  <tbody>\n",
       "    <tr>\n",
       "      <th>0</th>\n",
       "      <td>The Sixth Sense</td>\n",
       "      <td>https://m.media-amazon.com/images/M/MV5BMWM4NT...</td>\n",
       "      <td>A boy who communicates with spirits seeks ...</td>\n",
       "    </tr>\n",
       "    <tr>\n",
       "      <th>1</th>\n",
       "      <td>The Dark Knight Rises</td>\n",
       "      <td>https://m.media-amazon.com/images/M/MV5BMTk4OD...</td>\n",
       "      <td>Eight years after the Joker's reign of ana...</td>\n",
       "    </tr>\n",
       "    <tr>\n",
       "      <th>2</th>\n",
       "      <td>Inception</td>\n",
       "      <td>https://m.media-amazon.com/images/M/MV5BMjAxMz...</td>\n",
       "      <td>A thief who steals corporate secrets throu...</td>\n",
       "    </tr>\n",
       "    <tr>\n",
       "      <th>3</th>\n",
       "      <td>Psycho</td>\n",
       "      <td>https://m.media-amazon.com/images/M/MV5BNTQwND...</td>\n",
       "      <td>A Phoenix secretary embezzles forty thousa...</td>\n",
       "    </tr>\n",
       "    <tr>\n",
       "      <th>4</th>\n",
       "      <td>The Departed</td>\n",
       "      <td>https://m.media-amazon.com/images/M/MV5BMTI1MT...</td>\n",
       "      <td>An undercover cop and a mole in the police...</td>\n",
       "    </tr>\n",
       "  </tbody>\n",
       "</table>\n",
       "</div>"
      ],
      "text/plain": [
       "              Movie Name                                  Poster Image Link  \\\n",
       "0        The Sixth Sense  https://m.media-amazon.com/images/M/MV5BMWM4NT...   \n",
       "1  The Dark Knight Rises  https://m.media-amazon.com/images/M/MV5BMTk4OD...   \n",
       "2              Inception  https://m.media-amazon.com/images/M/MV5BMjAxMz...   \n",
       "3                 Psycho  https://m.media-amazon.com/images/M/MV5BNTQwND...   \n",
       "4           The Departed  https://m.media-amazon.com/images/M/MV5BMTI1MT...   \n",
       "\n",
       "                                            Synopsis  \n",
       "0      A boy who communicates with spirits seeks ...  \n",
       "1      Eight years after the Joker's reign of ana...  \n",
       "2      A thief who steals corporate secrets throu...  \n",
       "3      A Phoenix secretary embezzles forty thousa...  \n",
       "4      An undercover cop and a mole in the police...  "
      ]
     },
     "execution_count": 154,
     "metadata": {},
     "output_type": "execute_result"
    }
   ],
   "source": [
    "thriller_df.head()"
   ]
  },
  {
   "cell_type": "markdown",
   "metadata": {},
   "source": [
    "# WebScraping for the top 100 Drama Movies"
   ]
  },
  {
   "cell_type": "code",
   "execution_count": 160,
   "metadata": {},
   "outputs": [],
   "source": [
    "drama_link = \"https://www.imdb.com/list/ls072723351/\"\n",
    "resp = requests.get(drama_link)\n",
    "soup = BeautifulSoup(resp.content, \"html.parser\")"
   ]
  },
  {
   "cell_type": "code",
   "execution_count": 164,
   "metadata": {},
   "outputs": [],
   "source": [
    "images_soup = soup.find_all(\"img\",{\"class\":\"loadlate\"})\n",
    "texts = soup.find_all(\"p\",{\"class\":\"\"})[3:-1]\n",
    "images = []\n",
    "synopsis = []\n",
    "movie_names = []\n",
    "for image in images_soup:\n",
    "    if(len(image.get(\"class\"))<2):\n",
    "        movie_names.append(image.get(\"alt\"))\n",
    "        images.append(image.get(\"loadlate\"))\n",
    "for text in texts:\n",
    "    if(text.text[0].isdigit() == False):\n",
    "        txt = text.text.replace(\"\\n\",\"\")\n",
    "        synopsis.append(txt)\n",
    "drama_df = pd.DataFrame()\n",
    "drama_df[\"Movie Name\"] = movie_names\n",
    "drama_df[\"Poster Image Link\"] = images\n",
    "drama_df[\"Synopsis\"] = synopsis"
   ]
  },
  {
   "cell_type": "code",
   "execution_count": 166,
   "metadata": {},
   "outputs": [
    {
     "data": {
      "text/html": [
       "<div>\n",
       "<style scoped>\n",
       "    .dataframe tbody tr th:only-of-type {\n",
       "        vertical-align: middle;\n",
       "    }\n",
       "\n",
       "    .dataframe tbody tr th {\n",
       "        vertical-align: top;\n",
       "    }\n",
       "\n",
       "    .dataframe thead th {\n",
       "        text-align: right;\n",
       "    }\n",
       "</style>\n",
       "<table border=\"1\" class=\"dataframe\">\n",
       "  <thead>\n",
       "    <tr style=\"text-align: right;\">\n",
       "      <th></th>\n",
       "      <th>Movie Name</th>\n",
       "      <th>Poster Image Link</th>\n",
       "      <th>Synopsis</th>\n",
       "    </tr>\n",
       "  </thead>\n",
       "  <tbody>\n",
       "    <tr>\n",
       "      <th>0</th>\n",
       "      <td>The Godfather</td>\n",
       "      <td>https://m.media-amazon.com/images/M/MV5BM2MyNj...</td>\n",
       "      <td>The aging patriarch of an organized crime ...</td>\n",
       "    </tr>\n",
       "    <tr>\n",
       "      <th>1</th>\n",
       "      <td>Logan</td>\n",
       "      <td>https://m.media-amazon.com/images/M/MV5BYzc5MT...</td>\n",
       "      <td>In a future where mutants are nearly extin...</td>\n",
       "    </tr>\n",
       "    <tr>\n",
       "      <th>2</th>\n",
       "      <td>Blade Runner 2049</td>\n",
       "      <td>https://m.media-amazon.com/images/M/MV5BNzA1Nj...</td>\n",
       "      <td>A young blade runner's discovery of a long...</td>\n",
       "    </tr>\n",
       "    <tr>\n",
       "      <th>3</th>\n",
       "      <td>Hidden Figures</td>\n",
       "      <td>https://m.media-amazon.com/images/M/MV5BMzg2Mz...</td>\n",
       "      <td>The story of a team of female African-Amer...</td>\n",
       "    </tr>\n",
       "    <tr>\n",
       "      <th>4</th>\n",
       "      <td>10 Cloverfield Lane</td>\n",
       "      <td>https://m.media-amazon.com/images/M/MV5BMjEzMj...</td>\n",
       "      <td>After getting in a car accident, a woman i...</td>\n",
       "    </tr>\n",
       "  </tbody>\n",
       "</table>\n",
       "</div>"
      ],
      "text/plain": [
       "            Movie Name                                  Poster Image Link  \\\n",
       "0        The Godfather  https://m.media-amazon.com/images/M/MV5BM2MyNj...   \n",
       "1                Logan  https://m.media-amazon.com/images/M/MV5BYzc5MT...   \n",
       "2    Blade Runner 2049  https://m.media-amazon.com/images/M/MV5BNzA1Nj...   \n",
       "3       Hidden Figures  https://m.media-amazon.com/images/M/MV5BMzg2Mz...   \n",
       "4  10 Cloverfield Lane  https://m.media-amazon.com/images/M/MV5BMjEzMj...   \n",
       "\n",
       "                                            Synopsis  \n",
       "0      The aging patriarch of an organized crime ...  \n",
       "1      In a future where mutants are nearly extin...  \n",
       "2      A young blade runner's discovery of a long...  \n",
       "3      The story of a team of female African-Amer...  \n",
       "4      After getting in a car accident, a woman i...  "
      ]
     },
     "execution_count": 166,
     "metadata": {},
     "output_type": "execute_result"
    }
   ],
   "source": [
    "drama_df.head()"
   ]
  },
  {
   "cell_type": "markdown",
   "metadata": {},
   "source": [
    "# WebScraping for the top 100 Crime Movies"
   ]
  },
  {
   "cell_type": "code",
   "execution_count": 173,
   "metadata": {},
   "outputs": [],
   "source": [
    "crime_link = \"https://www.imdb.com/list/ls009668704/\"\n",
    "resp = requests.get(crime_link)\n",
    "soup = BeautifulSoup(resp.content, \"html.parser\")"
   ]
  },
  {
   "cell_type": "code",
   "execution_count": 175,
   "metadata": {},
   "outputs": [],
   "source": [
    "images_soup = soup.find_all(\"img\",{\"class\":\"loadlate\"})\n",
    "texts = soup.find_all(\"p\",{\"class\":\"\"})[2:-1]\n",
    "images = []\n",
    "synopsis = []\n",
    "movie_names = []\n",
    "for image in images_soup:\n",
    "    if(len(image.get(\"class\"))<2):\n",
    "        movie_names.append(image.get(\"alt\"))\n",
    "        images.append(image.get(\"loadlate\"))\n",
    "for text in texts:\n",
    "    if(text.text[0].isdigit() == False):\n",
    "        txt = text.text.replace(\"\\n\",\"\")\n",
    "        synopsis.append(txt)\n",
    "crime_df = pd.DataFrame()\n",
    "crime_df[\"Movie Name\"] = movie_names\n",
    "crime_df[\"Poster Image Link\"] = images\n",
    "crime_df[\"Synopsis\"] = synopsis"
   ]
  },
  {
   "cell_type": "code",
   "execution_count": 177,
   "metadata": {},
   "outputs": [
    {
     "data": {
      "text/html": [
       "<div>\n",
       "<style scoped>\n",
       "    .dataframe tbody tr th:only-of-type {\n",
       "        vertical-align: middle;\n",
       "    }\n",
       "\n",
       "    .dataframe tbody tr th {\n",
       "        vertical-align: top;\n",
       "    }\n",
       "\n",
       "    .dataframe thead th {\n",
       "        text-align: right;\n",
       "    }\n",
       "</style>\n",
       "<table border=\"1\" class=\"dataframe\">\n",
       "  <thead>\n",
       "    <tr style=\"text-align: right;\">\n",
       "      <th></th>\n",
       "      <th>Movie Name</th>\n",
       "      <th>Poster Image Link</th>\n",
       "      <th>Synopsis</th>\n",
       "    </tr>\n",
       "  </thead>\n",
       "  <tbody>\n",
       "    <tr>\n",
       "      <th>0</th>\n",
       "      <td>The Godfather</td>\n",
       "      <td>https://m.media-amazon.com/images/M/MV5BM2MyNj...</td>\n",
       "      <td>The aging patriarch of an organized crime ...</td>\n",
       "    </tr>\n",
       "    <tr>\n",
       "      <th>1</th>\n",
       "      <td>The Godfather: Part II</td>\n",
       "      <td>https://m.media-amazon.com/images/M/MV5BMWMwMG...</td>\n",
       "      <td>The early life and career of Vito Corleone...</td>\n",
       "    </tr>\n",
       "    <tr>\n",
       "      <th>2</th>\n",
       "      <td>Pulp Fiction</td>\n",
       "      <td>https://m.media-amazon.com/images/M/MV5BNGNhMD...</td>\n",
       "      <td>The lives of two mob hitmen, a boxer, a ga...</td>\n",
       "    </tr>\n",
       "    <tr>\n",
       "      <th>3</th>\n",
       "      <td>The Dark Knight</td>\n",
       "      <td>https://m.media-amazon.com/images/M/MV5BMTMxNT...</td>\n",
       "      <td>When the menace known as the Joker emerges...</td>\n",
       "    </tr>\n",
       "    <tr>\n",
       "      <th>4</th>\n",
       "      <td>Heat</td>\n",
       "      <td>https://m.media-amazon.com/images/M/MV5BNDc0YT...</td>\n",
       "      <td>A group of professional bank robbers start...</td>\n",
       "    </tr>\n",
       "  </tbody>\n",
       "</table>\n",
       "</div>"
      ],
      "text/plain": [
       "               Movie Name                                  Poster Image Link  \\\n",
       "0           The Godfather  https://m.media-amazon.com/images/M/MV5BM2MyNj...   \n",
       "1  The Godfather: Part II  https://m.media-amazon.com/images/M/MV5BMWMwMG...   \n",
       "2            Pulp Fiction  https://m.media-amazon.com/images/M/MV5BNGNhMD...   \n",
       "3         The Dark Knight  https://m.media-amazon.com/images/M/MV5BMTMxNT...   \n",
       "4                    Heat  https://m.media-amazon.com/images/M/MV5BNDc0YT...   \n",
       "\n",
       "                                            Synopsis  \n",
       "0      The aging patriarch of an organized crime ...  \n",
       "1      The early life and career of Vito Corleone...  \n",
       "2      The lives of two mob hitmen, a boxer, a ga...  \n",
       "3      When the menace known as the Joker emerges...  \n",
       "4      A group of professional bank robbers start...  "
      ]
     },
     "execution_count": 177,
     "metadata": {},
     "output_type": "execute_result"
    }
   ],
   "source": [
    "crime_df.head()"
   ]
  }
 ],
 "metadata": {
  "kernelspec": {
   "display_name": "Python 3",
   "language": "python",
   "name": "python3"
  },
  "language_info": {
   "codemirror_mode": {
    "name": "ipython",
    "version": 3
   },
   "file_extension": ".py",
   "mimetype": "text/x-python",
   "name": "python",
   "nbconvert_exporter": "python",
   "pygments_lexer": "ipython3",
   "version": "3.6.8"
  }
 },
 "nbformat": 4,
 "nbformat_minor": 2
}
